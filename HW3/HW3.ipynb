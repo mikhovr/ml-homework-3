{
 "cells": [
  {
   "cell_type": "raw",
   "metadata": {},
   "source": [
    "В датасете 178 наблюдений, 13 переменных, а также целевая переменная class, обозначающая тип вина.\n",
    "\n",
    "Распределение данных по соответствующим классам: [59,71,48].\n",
    "\n",
    "Все переменные численные. Означают процентное содержание алкоголя и другие химические, физические и оптические показатели."
   ]
  },
  {
   "cell_type": "code",
   "execution_count": 77,
   "metadata": {
    "collapsed": false
   },
   "outputs": [],
   "source": [
    "%matplotlib inline\n",
    "import pandas as pd\n",
    "import numpy as np\n",
    "import matplotlib\n",
    "import matplotlib.pyplot as plt\n",
    "from sklearn.grid_search import GridSearchCV\n",
    "from sklearn.model_selection import train_test_split, cross_val_score\n",
    "from sklearn.neighbors import NearestNeighbors, KNeighborsClassifier\n",
    "from sklearn.svm import SVC\n",
    "from sklearn.tree import DecisionTreeClassifier, export_graphviz\n",
    "from sklearn.neural_network import MLPClassifier\n",
    "from sklearn.ensemble import RandomForestClassifier\n",
    "from sklearn.metrics import mean_squared_error"
   ]
  },
  {
   "cell_type": "code",
   "execution_count": 41,
   "metadata": {
    "collapsed": false
   },
   "outputs": [],
   "source": [
    "matplotlib.rcParams['figure.figsize'] = (15.0, 8.0)\n",
    "url = \"http://archive.ics.uci.edu/ml/machine-learning-databases/wine/wine.data\"\n",
    "filename = \"wine.data\"\n",
    "names = ['class','alcohol','malic_acid','ash','ash_alc','magnesium','total_phenols','flavanoids','nonflav_phenols','proanthocyanins','color_int','hue','od','proline']\n",
    "df = pd.read_csv(filename, names=names)"
   ]
  },
  {
   "cell_type": "code",
   "execution_count": 6,
   "metadata": {
    "collapsed": false
   },
   "outputs": [
    {
     "data": {
      "text/html": [
       "<div>\n",
       "<table border=\"1\" class=\"dataframe\">\n",
       "  <thead>\n",
       "    <tr style=\"text-align: right;\">\n",
       "      <th></th>\n",
       "      <th>class</th>\n",
       "      <th>alcohol</th>\n",
       "      <th>malic_acid</th>\n",
       "      <th>ash</th>\n",
       "      <th>ash_alc</th>\n",
       "      <th>magnesium</th>\n",
       "      <th>total_phenols</th>\n",
       "      <th>flavanoids</th>\n",
       "      <th>nonflav_phenols</th>\n",
       "      <th>proanthocyanins</th>\n",
       "      <th>color_int</th>\n",
       "      <th>hue</th>\n",
       "      <th>od</th>\n",
       "      <th>proline</th>\n",
       "    </tr>\n",
       "  </thead>\n",
       "  <tbody>\n",
       "    <tr>\n",
       "      <th>0</th>\n",
       "      <td>1</td>\n",
       "      <td>14.23</td>\n",
       "      <td>1.71</td>\n",
       "      <td>2.43</td>\n",
       "      <td>15.6</td>\n",
       "      <td>127</td>\n",
       "      <td>2.80</td>\n",
       "      <td>3.06</td>\n",
       "      <td>0.28</td>\n",
       "      <td>2.29</td>\n",
       "      <td>5.64</td>\n",
       "      <td>1.04</td>\n",
       "      <td>3.92</td>\n",
       "      <td>1065</td>\n",
       "    </tr>\n",
       "    <tr>\n",
       "      <th>1</th>\n",
       "      <td>1</td>\n",
       "      <td>13.20</td>\n",
       "      <td>1.78</td>\n",
       "      <td>2.14</td>\n",
       "      <td>11.2</td>\n",
       "      <td>100</td>\n",
       "      <td>2.65</td>\n",
       "      <td>2.76</td>\n",
       "      <td>0.26</td>\n",
       "      <td>1.28</td>\n",
       "      <td>4.38</td>\n",
       "      <td>1.05</td>\n",
       "      <td>3.40</td>\n",
       "      <td>1050</td>\n",
       "    </tr>\n",
       "    <tr>\n",
       "      <th>2</th>\n",
       "      <td>1</td>\n",
       "      <td>13.16</td>\n",
       "      <td>2.36</td>\n",
       "      <td>2.67</td>\n",
       "      <td>18.6</td>\n",
       "      <td>101</td>\n",
       "      <td>2.80</td>\n",
       "      <td>3.24</td>\n",
       "      <td>0.30</td>\n",
       "      <td>2.81</td>\n",
       "      <td>5.68</td>\n",
       "      <td>1.03</td>\n",
       "      <td>3.17</td>\n",
       "      <td>1185</td>\n",
       "    </tr>\n",
       "    <tr>\n",
       "      <th>3</th>\n",
       "      <td>1</td>\n",
       "      <td>14.37</td>\n",
       "      <td>1.95</td>\n",
       "      <td>2.50</td>\n",
       "      <td>16.8</td>\n",
       "      <td>113</td>\n",
       "      <td>3.85</td>\n",
       "      <td>3.49</td>\n",
       "      <td>0.24</td>\n",
       "      <td>2.18</td>\n",
       "      <td>7.80</td>\n",
       "      <td>0.86</td>\n",
       "      <td>3.45</td>\n",
       "      <td>1480</td>\n",
       "    </tr>\n",
       "    <tr>\n",
       "      <th>4</th>\n",
       "      <td>1</td>\n",
       "      <td>13.24</td>\n",
       "      <td>2.59</td>\n",
       "      <td>2.87</td>\n",
       "      <td>21.0</td>\n",
       "      <td>118</td>\n",
       "      <td>2.80</td>\n",
       "      <td>2.69</td>\n",
       "      <td>0.39</td>\n",
       "      <td>1.82</td>\n",
       "      <td>4.32</td>\n",
       "      <td>1.04</td>\n",
       "      <td>2.93</td>\n",
       "      <td>735</td>\n",
       "    </tr>\n",
       "  </tbody>\n",
       "</table>\n",
       "</div>"
      ],
      "text/plain": [
       "   class  alcohol  malic_acid   ash  ash_alc  magnesium  total_phenols  \\\n",
       "0      1    14.23        1.71  2.43     15.6        127           2.80   \n",
       "1      1    13.20        1.78  2.14     11.2        100           2.65   \n",
       "2      1    13.16        2.36  2.67     18.6        101           2.80   \n",
       "3      1    14.37        1.95  2.50     16.8        113           3.85   \n",
       "4      1    13.24        2.59  2.87     21.0        118           2.80   \n",
       "\n",
       "   flavanoids  nonflav_phenols  proanthocyanins  color_int   hue    od  \\\n",
       "0        3.06             0.28             2.29       5.64  1.04  3.92   \n",
       "1        2.76             0.26             1.28       4.38  1.05  3.40   \n",
       "2        3.24             0.30             2.81       5.68  1.03  3.17   \n",
       "3        3.49             0.24             2.18       7.80  0.86  3.45   \n",
       "4        2.69             0.39             1.82       4.32  1.04  2.93   \n",
       "\n",
       "   proline  \n",
       "0     1065  \n",
       "1     1050  \n",
       "2     1185  \n",
       "3     1480  \n",
       "4      735  "
      ]
     },
     "execution_count": 6,
     "metadata": {},
     "output_type": "execute_result"
    }
   ],
   "source": [
    "# Посмотрим на данные\n",
    "df.head()"
   ]
  },
  {
   "cell_type": "code",
   "execution_count": 21,
   "metadata": {
    "collapsed": false
   },
   "outputs": [
    {
     "data": {
      "text/plain": [
       "(178, 14)"
      ]
     },
     "execution_count": 21,
     "metadata": {},
     "output_type": "execute_result"
    }
   ],
   "source": [
    "df.shape"
   ]
  },
  {
   "cell_type": "code",
   "execution_count": 7,
   "metadata": {
    "collapsed": false
   },
   "outputs": [],
   "source": [
    "def splitter(seed):\n",
    "    train_data, test_data = train_test_split(df, test_size=0.3, random_state=seed)\n",
    "    if seed is not None:\n",
    "        return train_data, test_data\n",
    "    else:\n",
    "        return df, test_data"
   ]
  },
  {
   "cell_type": "code",
   "execution_count": 8,
   "metadata": {
    "collapsed": false
   },
   "outputs": [],
   "source": [
    "train, test = splitter(420)"
   ]
  },
  {
   "cell_type": "code",
   "execution_count": 9,
   "metadata": {
    "collapsed": false
   },
   "outputs": [],
   "source": [
    "y_train = train['class']#.as_matrix()\n",
    "X_train = train.drop('class', axis=1)#.as_matrix()\n",
    "y_test = test['class']#.as_matrix()\n",
    "X_test = test.drop('class', axis=1)#.as_matrix()"
   ]
  },
  {
   "cell_type": "markdown",
   "metadata": {},
   "source": [
    "## Подбор параметров"
   ]
  },
  {
   "cell_type": "markdown",
   "metadata": {},
   "source": [
    "** Здесь мы будем смотреть среднюю ошибку на обучающей и тестовой выборке для лучшего набора параметров. **"
   ]
  },
  {
   "cell_type": "code",
   "execution_count": 56,
   "metadata": {
    "collapsed": false
   },
   "outputs": [],
   "source": [
    "# pc stands for parameter candidate\n",
    "knn_pc = [{'n_neighbors': list(range(3,22, 2))}]\n",
    "\n",
    "svc_pc = [{'C': np.logspace(-3, 3, 10),\n",
    "           'kernel': ['linear', 'rbf']}]\n",
    "\n",
    "dt_pc = [{'min_samples_split': list(range(2,11)),\n",
    "          'min_samples_leaf': [1,2],\n",
    "          'presort': [False, True]}]\n",
    "\n",
    "nn_pc = [{'hidden_layer_sizes': [(15), (8,7), (7,5,3)],\n",
    "         'activation': ['identity', 'logistic', 'tanh', 'relu'],\n",
    "         'solver': ['lbfgs','sgd','adam'],\n",
    "         'alpha': [0.0001, 0.001, 0.01],\n",
    "         'learning_rate': ['constant','invscaling','adaptive'],\n",
    "         'shuffle': [True, False],\n",
    "         'learning_rate_init': [0.0001, 0.001, 0.01],\n",
    "         'momentum': [0, 0.5, 1]}]\n",
    "\n",
    "rf_pc = [{'n_estimators': list(range(10,16)),\n",
    "         'min_samples_split': list(range(2,11)),\n",
    "        'min_samples_leaf': [1,2]}]"
   ]
  },
  {
   "cell_type": "markdown",
   "metadata": {},
   "source": [
    "** Метод ближайших соседей **"
   ]
  },
  {
   "cell_type": "code",
   "execution_count": 57,
   "metadata": {
    "collapsed": false
   },
   "outputs": [
    {
     "data": {
      "text/plain": [
       "GridSearchCV(cv=10, error_score='raise',\n",
       "       estimator=KNeighborsClassifier(algorithm='auto', leaf_size=30, metric='minkowski',\n",
       "           metric_params=None, n_jobs=1, n_neighbors=5, p=2,\n",
       "           weights='uniform'),\n",
       "       fit_params={}, iid=True, n_jobs=-1,\n",
       "       param_grid=[{'n_neighbors': [3, 5, 7, 9, 11, 13, 15, 17, 19, 21]}],\n",
       "       pre_dispatch='2*n_jobs', refit=True, return_train_score=True,\n",
       "       scoring=None, verbose=0)"
      ]
     },
     "execution_count": 57,
     "metadata": {},
     "output_type": "execute_result"
    }
   ],
   "source": [
    "grid_knn = GridSearchCV(KNeighborsClassifier(), knn_pc, cv=10, n_jobs=-1)\n",
    "grid_knn.fit(X_train, y_train)"
   ]
  },
  {
   "cell_type": "code",
   "execution_count": 58,
   "metadata": {
    "collapsed": false
   },
   "outputs": [
    {
     "name": "stdout",
     "output_type": "stream",
     "text": [
      "Best score for training set: 0.701612903226\n",
      "Best n_neighbors: 3\n",
      "Train error = 0.16935483871\n",
      "Test error = 0.444444444444\n"
     ]
    }
   ],
   "source": [
    "print('Best score for training set:', grid_knn.best_score_)\n",
    "print('Best n_neighbors:', grid_knn.best_estimator_.n_neighbors)\n",
    "err_train = mean_squared_error(y_train, grid_knn.predict(X_train))\n",
    "err_test = mean_squared_error(y_test, grid_knn.predict(X_test))\n",
    "print('Train error =' ,err_train)\n",
    "print('Test error =',err_test)"
   ]
  },
  {
   "cell_type": "markdown",
   "metadata": {},
   "source": [
    "** Машины опорных векторов. Выбран метод SVC как наиболее часто применяемый и распространённый **"
   ]
  },
  {
   "cell_type": "code",
   "execution_count": 13,
   "metadata": {
    "collapsed": false
   },
   "outputs": [
    {
     "data": {
      "text/plain": [
       "GridSearchCV(cv=10, error_score='raise',\n",
       "       estimator=SVC(C=1.0, cache_size=200, class_weight=None, coef0=0.0,\n",
       "  decision_function_shape=None, degree=3, gamma='auto', kernel='rbf',\n",
       "  max_iter=-1, probability=False, random_state=None, shrinking=True,\n",
       "  tol=0.001, verbose=False),\n",
       "       fit_params={}, iid=True, n_jobs=-1,\n",
       "       param_grid=[{'C': array([  1.00000e-03,   4.64159e-03,   2.15443e-02,   1.00000e-01,\n",
       "         4.64159e-01,   2.15443e+00,   1.00000e+01,   4.64159e+01,\n",
       "         2.15443e+02,   1.00000e+03]), 'kernel': ['linear', 'rbf']}],\n",
       "       pre_dispatch='2*n_jobs', refit=True, scoring=None, verbose=0)"
      ]
     },
     "execution_count": 13,
     "metadata": {},
     "output_type": "execute_result"
    }
   ],
   "source": [
    "grid_svc = GridSearchCV(SVC(), svc_pc, cv=10, n_jobs = -1)\n",
    "grid_svc.fit(X_train, y_train)"
   ]
  },
  {
   "cell_type": "code",
   "execution_count": 59,
   "metadata": {
    "collapsed": false
   },
   "outputs": [
    {
     "name": "stdout",
     "output_type": "stream",
     "text": [
      "Best score for training set: 0.9758064516129032\n",
      "Best C: 0.1\n",
      "Best Kernel: linear\n",
      "Train error = 0.0161290322581\n",
      "Test error = 0.0555555555556\n"
     ]
    }
   ],
   "source": [
    "print('Best score for training set:', grid_svc.best_score_)\n",
    "print('Best C:', grid_svc.best_estimator_.C)\n",
    "print('Best Kernel:', grid_svc.best_estimator_.kernel)\n",
    "err_train = mean_squared_error(y_train, grid_svc.predict(X_train))\n",
    "err_test = mean_squared_error(y_test, grid_svc.predict(X_test))\n",
    "print('Train error =' ,err_train)\n",
    "print('Test error =',err_test)"
   ]
  },
  {
   "cell_type": "markdown",
   "metadata": {},
   "source": [
    "** Решающее дерево **"
   ]
  },
  {
   "cell_type": "code",
   "execution_count": 15,
   "metadata": {
    "collapsed": false
   },
   "outputs": [
    {
     "data": {
      "text/plain": [
       "GridSearchCV(cv=10, error_score='raise',\n",
       "       estimator=DecisionTreeClassifier(class_weight=None, criterion='gini', max_depth=None,\n",
       "            max_features=None, max_leaf_nodes=None,\n",
       "            min_impurity_split=1e-07, min_samples_leaf=1,\n",
       "            min_samples_split=2, min_weight_fraction_leaf=0.0,\n",
       "            presort=False, random_state=None, splitter='best'),\n",
       "       fit_params={}, iid=True, n_jobs=-1,\n",
       "       param_grid=[{'min_samples_split': [2, 3, 4, 5, 6, 7, 8, 9, 10], 'min_samples_leaf': [1, 2], 'presort': [False, True]}],\n",
       "       pre_dispatch='2*n_jobs', refit=True, scoring=None, verbose=0)"
      ]
     },
     "execution_count": 15,
     "metadata": {},
     "output_type": "execute_result"
    }
   ],
   "source": [
    "grid_dt = GridSearchCV(DecisionTreeClassifier(), dt_pc, cv=10, n_jobs=-1)\n",
    "grid_dt.fit(X_train, y_train)"
   ]
  },
  {
   "cell_type": "code",
   "execution_count": 63,
   "metadata": {
    "collapsed": false
   },
   "outputs": [
    {
     "name": "stdout",
     "output_type": "stream",
     "text": [
      "Best score for training set: 0.9274193548387096\n",
      "Best min_samples_split: 6\n",
      "Best min_samples_leaf: 1\n",
      "Train error = 0.0\n",
      "Test error = 0.0555555555556\n"
     ]
    }
   ],
   "source": [
    "print('Best score for training set:', grid_dt.best_score_)\n",
    "print('Best min_samples_split:', grid_dt.best_estimator_.min_samples_split)\n",
    "print('Best min_samples_leaf:', grid_dt.best_estimator_.min_samples_leaf)\n",
    "err_train = mean_squared_error(y_train, grid_dt.predict(X_train))\n",
    "err_test = mean_squared_error(y_test, grid_dt.predict(X_test))\n",
    "print('Train error =' ,err_train)\n",
    "print('Test error =',err_test)"
   ]
  },
  {
   "cell_type": "markdown",
   "metadata": {},
   "source": [
    "** Нейросеть **"
   ]
  },
  {
   "cell_type": "code",
   "execution_count": 64,
   "metadata": {
    "collapsed": false
   },
   "outputs": [
    {
     "data": {
      "text/plain": [
       "GridSearchCV(cv=10, error_score='raise',\n",
       "       estimator=MLPClassifier(activation='relu', alpha=0.0001, batch_size='auto', beta_1=0.9,\n",
       "       beta_2=0.999, early_stopping=False, epsilon=1e-08,\n",
       "       hidden_layer_sizes=(100,), learning_rate='constant',\n",
       "       learning_rate_init=0.001, max_iter=200, momentum=0.9,\n",
       "       nesterovs_momentum=True, power_t=0.5, random_state=None,\n",
       "       shuffle=True, solver='adam', tol=0.0001, validation_fraction=0.1,\n",
       "       verbose=False, warm_start=False),\n",
       "       fit_params={}, iid=True, n_jobs=-1,\n",
       "       param_grid=[{'hidden_layer_sizes': [15, (8, 7), (7, 5, 3)], 'activation': ['identity', 'logistic', 'tanh', 'relu'], 'solver': ['lbfgs', 'sgd', 'adam'], 'alpha': [0.0001, 0.001, 0.01], 'learning_rate': ['constant', 'invscaling', 'adaptive'], 'shuffle': [True, False], 'learning_rate_init': [0.0001, 0.001, 0.01], 'momentum': [0, 0.5, 1]}],\n",
       "       pre_dispatch='2*n_jobs', refit=True, return_train_score=True,\n",
       "       scoring=None, verbose=0)"
      ]
     },
     "execution_count": 64,
     "metadata": {},
     "output_type": "execute_result"
    }
   ],
   "source": [
    "grid_nn = GridSearchCV(MLPClassifier(), nn_pc, cv=10, n_jobs=-1)\n",
    "grid_nn.fit(X_train, y_train)"
   ]
  },
  {
   "cell_type": "code",
   "execution_count": 65,
   "metadata": {
    "collapsed": false
   },
   "outputs": [
    {
     "name": "stdout",
     "output_type": "stream",
     "text": [
      "Best score for training set: 0.870967741935\n",
      "Best parameters: {'activation': 'logistic', 'alpha': 0.01, 'hidden_layer_sizes': 15, 'learning_rate': 'invscaling', 'learning_rate_init': 0.01, 'momentum': 0, 'shuffle': False, 'solver': 'adam'}\n",
      "Train error = 0.572580645161\n",
      "Test error = 0.666666666667\n"
     ]
    }
   ],
   "source": [
    "print('Best score for training set:', grid_nn.best_score_)\n",
    "print('Best parameters:', grid_nn.best_params_)\n",
    "err_train = mean_squared_error(y_train, grid_nn.predict(X_train))\n",
    "err_test = mean_squared_error(y_test, grid_nn.predict(X_test))\n",
    "print('Train error =' ,err_train)\n",
    "print('Test error =',err_test)"
   ]
  },
  {
   "cell_type": "markdown",
   "metadata": {},
   "source": [
    "** Лес **"
   ]
  },
  {
   "cell_type": "code",
   "execution_count": 83,
   "metadata": {
    "collapsed": false
   },
   "outputs": [
    {
     "data": {
      "text/plain": [
       "GridSearchCV(cv=10, error_score='raise',\n",
       "       estimator=RandomForestClassifier(bootstrap=True, class_weight=None, criterion='gini',\n",
       "            max_depth=None, max_features='auto', max_leaf_nodes=None,\n",
       "            min_impurity_split=1e-07, min_samples_leaf=1,\n",
       "            min_samples_split=2, min_weight_fraction_leaf=0.0,\n",
       "            n_estimators=10, n_jobs=1, oob_score=False, random_state=None,\n",
       "            verbose=0, warm_start=False),\n",
       "       fit_params={}, iid=True, n_jobs=-1,\n",
       "       param_grid=[{'n_estimators': [10, 11, 12, 13, 14, 15], 'min_samples_split': [2, 3, 4, 5, 6, 7, 8, 9, 10], 'min_samples_leaf': [1, 2]}],\n",
       "       pre_dispatch='2*n_jobs', refit=True, scoring=None, verbose=0)"
      ]
     },
     "execution_count": 83,
     "metadata": {},
     "output_type": "execute_result"
    }
   ],
   "source": [
    "grid_rf = GridSearchCV(RandomForestClassifier(), rf_pc, cv=10, n_jobs=-1)\n",
    "grid_rf.fit(X_train, y_train)"
   ]
  },
  {
   "cell_type": "code",
   "execution_count": 86,
   "metadata": {
    "collapsed": false
   },
   "outputs": [
    {
     "name": "stdout",
     "output_type": "stream",
     "text": [
      "Best score for training set: 0.9919354838709677\n",
      "Best parameters: {'min_samples_leaf': 1, 'min_samples_split': 2, 'n_estimators': 10}\n",
      "Train error = 0.0\n",
      "Test error = 0.037037037037\n"
     ]
    }
   ],
   "source": [
    "print('Best score for training set:', grid_rf.best_score_)\n",
    "print('Best parameters:', grid_rf.best_params_)\n",
    "err_train = mean_squared_error(y_train, grid_rf.predict(X_train))\n",
    "err_test = mean_squared_error(y_test, grid_rf.predict(X_test))\n",
    "print('Train error =' ,err_train)\n",
    "print('Test error =',err_test)"
   ]
  },
  {
   "cell_type": "markdown",
   "metadata": {},
   "source": [
    "**Построим график ошибки для обучающей и тестовой выборки в зависимости от количества ближайших соседей**"
   ]
  },
  {
   "cell_type": "code",
   "execution_count": 68,
   "metadata": {
    "collapsed": false
   },
   "outputs": [
    {
     "data": {
      "image/png": "[encoded data removed]",
      "text/plain": [
       "<matplotlib.figure.Figure at 0x20eff295b70>"
      ]
     },
     "metadata": {},
     "output_type": "display_data"
    }
   ],
   "source": [
    "knn = KNeighborsClassifier()\n",
    "train_p = []\n",
    "test_p = []\n",
    "j = 0\n",
    "for i in range(3,22,2):\n",
    "    grid = GridSearchCV(knn, param_grid={'n_neighbors': [i]}, cv = 10)\n",
    "    grid.fit(X_train, y_train)\n",
    "    err_train = mean_squared_error(y_train, grid.predict(X_train))\n",
    "    err_test = mean_squared_error(y_test, grid.predict(X_test))\n",
    "    train_p.insert(j, err_train)\n",
    "    test_p.insert(j,err_test)\n",
    "    j += 1\n",
    "\n",
    "\n",
    "plt.plot(list(range(3,22,2)), test_p, label = 'Test error' ,color='red')\n",
    "plt.plot(list(range(3,22,2)), train_p, label = 'Train error', color='blue')\n",
    "plt.axis([0, 22, 0, 1])\n",
    "plt.legend(bbox_to_anchor=(1.05, 1), loc=2, borderaxespad=0.)\n",
    "plt.xlabel('k')\n",
    "plt.ylabel('MSE')\n",
    "plt.title('Error of kNN')\n",
    "plt.grid(True)"
   ]
  },
  {
   "cell_type": "markdown",
   "metadata": {},
   "source": [
    "**Построим график зависимости количества опорных векторов от штрафа для каждого типа вина**"
   ]
  },
  {
   "cell_type": "code",
   "execution_count": 90,
   "metadata": {
    "collapsed": false
   },
   "outputs": [
    {
     "data": {
      "image/png": "[encoded data removed]",
      "text/plain": [
       "<matplotlib.figure.Figure at 0x20eff51b5f8>"
      ]
     },
     "metadata": {},
     "output_type": "display_data"
    }
   ],
   "source": [
    "C_array = np.logspace(-3, -1, 10)\n",
    "class_1 =[]\n",
    "class_2 =[]\n",
    "class_3 =[]\n",
    "for i in C_array:\n",
    "    svm = SVC(C=i,kernel=grid_svc.best_estimator_.kernel) \n",
    "    svm.fit(X_train,y_train)\n",
    "    class_1.append(svm.n_support_[0])\n",
    "    class_2.append(svm.n_support_[1])\n",
    "    class_3.append(svm.n_support_[2])\n",
    " \n",
    "plt.plot(C_array, class_1, label = 'Type I' ,color='red')\n",
    "plt.plot(C_array, class_2, label = 'Type II')\n",
    "plt.plot(C_array, class_3, label = 'Type III')\n",
    "plt.legend(bbox_to_anchor=(1.05, 1), loc=2, borderaxespad=0.)\n",
    "plt.xlabel('C')\n",
    "plt.ylabel('Number of Support Machines')\n",
    "plt.title('Number of SVM (on C) for every wine type')\n",
    "plt.grid(True)"
   ]
  },
  {
   "cell_type": "markdown",
   "metadata": {},
   "source": [
    "**Дерево по обучающей выборке:**"
   ]
  },
  {
   "cell_type": "code",
   "execution_count": 80,
   "metadata": {
    "collapsed": false
   },
   "outputs": [],
   "source": [
    "clf = DecisionTreeClassifier(min_samples_split = 6)\n",
    "clf.fit(X_train,y_train)\n",
    "dotfile = open(\"D:/dtree2.dot\", 'w')\n",
    "export_graphviz(clf, out_file = dotfile, feature_names = names)\n",
    "dotfile.close()"
   ]
  },
  {
   "cell_type": "code",
   "execution_count": 82,
   "metadata": {
    "collapsed": false
   },
   "outputs": [
    {
     "data": {
      "image/png": "[encoded data removed]",
      "text/plain": [
       "<IPython.core.display.Image object>"
      ]
     },
     "execution_count": 82,
     "metadata": {},
     "output_type": "execute_result"
    }
   ],
   "source": [
    "from IPython.display import Image\n",
    "Image(\"tree.png\")"
   ]
  },
  {
   "cell_type": "raw",
   "metadata": {},
   "source": [
    "После нормализации (вычли среднее и поделили на дисперсию) получили следующие результаты:\n",
    "Ожидались изменения в работе нейросети, так как этот метод очень чувствителен к отклонениям.\n",
    "    \n",
    "kNN: Train error = 0.00806451612903 , Test error = 0.037037037037\n",
    "SVM: Train error = 0.0 , Test error = 0.0\n",
    "DT: Train error = 0.0 , Test error = 0.0\n",
    "RF: Train error = 0.0 , Test error = 0.0185185185185\n",
    "NN: Train error = 0.0 , Test error = 0.0555555555556"
   ]
  },
  {
   "cell_type": "markdown",
   "metadata": {},
   "source": [
    "### Вывод"
   ]
  },
  {
   "cell_type": "raw",
   "metadata": {},
   "source": [
    "Лучше всего с задачей классификации справились SVM, решающее дерево и случайный лес.\n",
    "\n",
    "Нормализация данных ещё сильнее улучшила результаты. Нейросеть значительно улучшила результаты и может считаться одним из лучших методов.\n",
    "При ненормализованных данных рекомендуется SVM, при нормализованных — нейросеть или SVM."
   ]
  }
 ],
 "metadata": {
  "kernelspec": {
   "display_name": "Python 3",
   "language": "python",
   "name": "python3"
  },
  "language_info": {
   "codemirror_mode": {
    "name": "ipython",
    "version": 3
   },
   "file_extension": ".py",
   "mimetype": "text/x-python",
   "name": "python",
   "nbconvert_exporter": "python",
   "pygments_lexer": "ipython3",
   "version": "3.6.0"
  }
 },
 "nbformat": 4,
 "nbformat_minor": 0
}
